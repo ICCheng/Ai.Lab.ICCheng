{
  "nbformat": 4,
  "nbformat_minor": 0,
  "metadata": {
    "orig_nbformat": 2,
    "colab": {
      "name": "LA02-Assignments.ipynb",
      "provenance": [],
      "collapsed_sections": []
    },
    "kernelspec": {
      "name": "python3",
      "display_name": "Python 3"
    }
  },
  "cells": [
    {
      "cell_type": "markdown",
      "metadata": {
        "id": "YTcL7aFO6YBQ"
      },
      "source": [
        "# LA02.Assignments\n",
        "## (October 14, 2020)\n",
        "- __Due date: 12:00AM October 21, 2020 (UTC-7)__\n",
        "- Student name: I-Chuan Cheng\n",
        "- Student ID: p25100\n",
        "- Student email: p25100@psuca.edu"
      ]
    },
    {
      "cell_type": "markdown",
      "metadata": {
        "id": "Vk7bktM26YBR"
      },
      "source": [
        "# Problem Set 01:\n",
        "\n",
        "- Develop neurons and print truth table of the following 2-input logic gates: AND, OR, NAND, NOR, XOR, XNOR and 1-input NOT gate\n",
        "     \n",
        "_(Notice: use Markdown to explain how you developed a neuron, and to insert images showing the truth table of logic gates before coding)_"
      ]
    },
    {
      "cell_type": "markdown",
      "metadata": {
        "id": "ZwTQNhl_6YBR"
      },
      "source": [
        "# Problem Set 02:\n",
        "- Develop neuron and print truth table of XOR gate using only NAND gates\n",
        "- Develop neuron and print truth table of XOR gate using only NOR gates\n",
        "- Develop neuron and print truth table of XNOR gate using only NAND gates\n",
        "- Develop neuron and print truth table of XNOR gate using only NOR gates  \n",
        "\n",
        "_(Notice: use Markdown to explain how you developed a neuron, and to insert images showing the truth table of logic gates before coding)_"
      ]
    },
    {
      "cell_type": "code",
      "metadata": {
        "id": "8GnpL93g4t0B",
        "outputId": "d3da1c15-8b73-4cb1-f289-2a18bf082762",
        "colab": {
          "base_uri": "https://localhost:8080/",
          "height": 105
        }
      },
      "source": [
        "def NAND (a, b):\n",
        "    if a == 1 and b == 1:\n",
        "        return 0\n",
        "    else:\n",
        "        return 1\n",
        "\n",
        "def XOR(A,B):\n",
        "    C = NAND(A,B)\n",
        "    D = NAND(A,C)\n",
        "    E = NAND(B,C)\n",
        "    F = NAND(D,E)\n",
        "    return F\n",
        "\n",
        "print(\"X | Y | Out\")    \n",
        "print(\"0 | 0 | \"+ str(XOR(0,0)))\n",
        "print(\"0 | 1 | \"+ str(XOR(0,1)))\n",
        "print(\"1 | 0 | \"+ str(XOR(1,0)))\n",
        "print(\"0 | 1 | \"+ str(XOR(0,0)))"
      ],
      "execution_count": 1,
      "outputs": [
        {
          "output_type": "stream",
          "text": [
            "X | Y | Out\n",
            "0 | 0 | 0\n",
            "0 | 1 | 1\n",
            "1 | 0 | 1\n",
            "0 | 1 | 0\n"
          ],
          "name": "stdout"
        }
      ]
    },
    {
      "cell_type": "code",
      "metadata": {
        "id": "ctYg5qiK48rT",
        "outputId": "7414499b-7d88-4d80-9b1e-b465e438e079",
        "colab": {
          "base_uri": "https://localhost:8080/",
          "height": 105
        }
      },
      "source": [
        "def NOR(a, b):\n",
        "    if(a == 0) and (b == 0):\n",
        "        return 1\n",
        "    elif(a == 0) and (b == 1):\n",
        "        return 0\n",
        "    elif(a == 1) and (b == 0):\n",
        "        return 0\n",
        "    elif(a == 1) and (b == 1):\n",
        "        return 0\n",
        "\n",
        "def XOR(A,B):\n",
        "    C = NOR(A,B)\n",
        "    D = NOR(A,C)\n",
        "    E = NOR(B,C)\n",
        "    F = NOR(D,E)\n",
        "    return NOR(F,F)\n",
        "\n",
        "print(\"X | Y | Out\")    \n",
        "print(\"0 | 0 | \"+ str(XOR(0,0)))\n",
        "print(\"0 | 1 | \"+ str(XOR(0,1)))\n",
        "print(\"1 | 0 | \"+ str(XOR(1,0)))\n",
        "print(\"0 | 1 | \"+ str(XOR(0,0)))"
      ],
      "execution_count": 2,
      "outputs": [
        {
          "output_type": "stream",
          "text": [
            "X | Y | Out\n",
            "0 | 0 | 0\n",
            "0 | 1 | 1\n",
            "1 | 0 | 1\n",
            "0 | 1 | 0\n"
          ],
          "name": "stdout"
        }
      ]
    },
    {
      "cell_type": "code",
      "metadata": {
        "id": "e_-VFT1t49cI",
        "outputId": "3329c72c-f88a-4a0e-f2a7-da6ea325cb46",
        "colab": {
          "base_uri": "https://localhost:8080/",
          "height": 105
        }
      },
      "source": [
        "def NAND (a, b):\n",
        "    if a == 1 and b == 1:\n",
        "        return 0\n",
        "    else:\n",
        "        return 1\n",
        "\n",
        "def XNOR(A,B):\n",
        "    C = NAND(A,B)\n",
        "    D = NAND(A,C)\n",
        "    E = NAND(B,C)\n",
        "    F = NAND(D,E)\n",
        "    return NAND(F,F)\n",
        "\n",
        "print(\"X | Y | Out\")    \n",
        "print(\"0 | 0 | \"+ str(XNOR(0,0)))\n",
        "print(\"0 | 1 | \"+ str(XNOR(0,1)))\n",
        "print(\"1 | 0 | \"+ str(XNOR(1,0)))\n",
        "print(\"0 | 1 | \"+ str(XNOR(0,0)))"
      ],
      "execution_count": 3,
      "outputs": [
        {
          "output_type": "stream",
          "text": [
            "X | Y | Out\n",
            "0 | 0 | 1\n",
            "0 | 1 | 0\n",
            "1 | 0 | 0\n",
            "0 | 1 | 1\n"
          ],
          "name": "stdout"
        }
      ]
    },
    {
      "cell_type": "code",
      "metadata": {
        "id": "QePUY4S74-OR",
        "outputId": "d9329eb7-7fda-4834-a209-ffba51cde5b2",
        "colab": {
          "base_uri": "https://localhost:8080/",
          "height": 105
        }
      },
      "source": [
        "def NOR(a, b):\n",
        "    if(a == 0) and (b == 0):\n",
        "        return 1\n",
        "    elif(a == 0) and (b == 1):\n",
        "        return 0\n",
        "    elif(a == 1) and (b == 0):\n",
        "        return 0\n",
        "    elif(a == 1) and (b == 1):\n",
        "        return 0\n",
        "\n",
        "def XNOR(A,B):\n",
        "    C = NOR(A,B)\n",
        "    D = NOR(A,C)\n",
        "    E = NOR(B,C)\n",
        "    F = NOR(D,E)\n",
        "    return F\n",
        "\n",
        "print(\"X | Y | Out\")    \n",
        "print(\"0 | 0 | \"+ str(XNOR(0,0)))\n",
        "print(\"0 | 1 | \"+ str(XNOR(0,1)))\n",
        "print(\"1 | 0 | \"+ str(XNOR(1,0)))\n",
        "print(\"0 | 1 | \"+ str(XNOR(0,0)))"
      ],
      "execution_count": 4,
      "outputs": [
        {
          "output_type": "stream",
          "text": [
            "X | Y | Out\n",
            "0 | 0 | 1\n",
            "0 | 1 | 0\n",
            "1 | 0 | 0\n",
            "0 | 1 | 1\n"
          ],
          "name": "stdout"
        }
      ]
    },
    {
      "cell_type": "markdown",
      "metadata": {
        "id": "wDkVlMiy6YBS"
      },
      "source": [
        "# Problem Set 03:\n",
        "\n",
        "- Write a program to input an uncertain string *S* of words and space/tab\n",
        "    - Remove space/tab in S\n",
        "    - Remove identical words\n",
        "    - Sort all words in the order of a-z\n",
        "    - Print the output strings\n",
        "- Example:\n",
        "    - Input String: \"hello world and practice makes perfect and hello world again\"\n",
        "    - Output String: \"again and hello makes perfect practice world\"\n",
        "- Tips: \n",
        "    - use *set* to remove identical words, \n",
        "    - use *sorted()* to sort words\n",
        "    - use *split()* to remove space"
      ]
    },
    {
      "cell_type": "code",
      "metadata": {
        "id": "x-HY0IgIG_Qb",
        "outputId": "13431a9e-747c-4e10-a971-6724322974ad",
        "colab": {
          "base_uri": "https://localhost:8080/",
          "height": 70
        }
      },
      "source": [
        "string =input(\"Enter a string\\n\")#Input a string\n",
        "a_list = string.split()#splitting it into list to remove extra spaces and tabs\n",
        "new_string = \" \".join(a_list)#string without tabs and spaces\n",
        "l = new_string.split() #Splitting the new string \n",
        "k = []\n",
        "for i in l: #removing identical words\n",
        "    if (new_string.count(i)>1 and (i not in k)or new_string.count(i)==1): \n",
        "        k.append(i) \n",
        "new_string=' '.join(k) #new string after removing identical words\n",
        "st=new_string.split(\" \")\n",
        "st.sort()#sorting in alphabetical order\n",
        "res=\" \".join(st)\n",
        "print(res)#printinh the final output"
      ],
      "execution_count": 13,
      "outputs": [
        {
          "output_type": "stream",
          "text": [
            "Enter a string\n",
            "hello world and practice makes perfect and hello world again\n",
            "again and hello makes perfect practice world\n"
          ],
          "name": "stdout"
        }
      ]
    },
    {
      "cell_type": "markdown",
      "metadata": {
        "id": "2L6xRocK6YBT"
      },
      "source": [
        "# Problem Set 04:\n",
        "- Write a function to seek for all even numbers and odd numbers in the middle of two number A and B. Print even and odd numbers in 1 and 2020 (including both these two numbers)\n",
        "\n"
      ]
    },
    {
      "cell_type": "code",
      "metadata": {
        "id": "_P7A8TKK5b0_",
        "outputId": "825e380f-6dde-45c9-b50a-51fa439f73f5",
        "colab": {
          "base_uri": "https://localhost:8080/",
          "height": 107
        }
      },
      "source": [
        "def evenorodd():\n",
        "  print(\"Even numbers:\", end = \" \")\n",
        "\n",
        "  for i in range(1,2021):\n",
        "    if i%2 == 0:\n",
        "      print(i,end = \" \")\n",
        "  print(\"\\n\\n\")\n",
        "  print(\"Odd numbers:\", end = \" \")\n",
        "\n",
        "  for i in range(1,2021):\n",
        "    if i%2 == 1:      \n",
        "      print(i,end = \" \")\n",
        "\n",
        "evenorodd()"
      ],
      "execution_count": 6,
      "outputs": [
        {
          "output_type": "stream",
          "text": [
            "Even numbers: 2 4 6 8 10 12 14 16 18 20 22 24 26 28 30 32 34 36 38 40 42 44 46 48 50 52 54 56 58 60 62 64 66 68 70 72 74 76 78 80 82 84 86 88 90 92 94 96 98 100 102 104 106 108 110 112 114 116 118 120 122 124 126 128 130 132 134 136 138 140 142 144 146 148 150 152 154 156 158 160 162 164 166 168 170 172 174 176 178 180 182 184 186 188 190 192 194 196 198 200 202 204 206 208 210 212 214 216 218 220 222 224 226 228 230 232 234 236 238 240 242 244 246 248 250 252 254 256 258 260 262 264 266 268 270 272 274 276 278 280 282 284 286 288 290 292 294 296 298 300 302 304 306 308 310 312 314 316 318 320 322 324 326 328 330 332 334 336 338 340 342 344 346 348 350 352 354 356 358 360 362 364 366 368 370 372 374 376 378 380 382 384 386 388 390 392 394 396 398 400 402 404 406 408 410 412 414 416 418 420 422 424 426 428 430 432 434 436 438 440 442 444 446 448 450 452 454 456 458 460 462 464 466 468 470 472 474 476 478 480 482 484 486 488 490 492 494 496 498 500 502 504 506 508 510 512 514 516 518 520 522 524 526 528 530 532 534 536 538 540 542 544 546 548 550 552 554 556 558 560 562 564 566 568 570 572 574 576 578 580 582 584 586 588 590 592 594 596 598 600 602 604 606 608 610 612 614 616 618 620 622 624 626 628 630 632 634 636 638 640 642 644 646 648 650 652 654 656 658 660 662 664 666 668 670 672 674 676 678 680 682 684 686 688 690 692 694 696 698 700 702 704 706 708 710 712 714 716 718 720 722 724 726 728 730 732 734 736 738 740 742 744 746 748 750 752 754 756 758 760 762 764 766 768 770 772 774 776 778 780 782 784 786 788 790 792 794 796 798 800 802 804 806 808 810 812 814 816 818 820 822 824 826 828 830 832 834 836 838 840 842 844 846 848 850 852 854 856 858 860 862 864 866 868 870 872 874 876 878 880 882 884 886 888 890 892 894 896 898 900 902 904 906 908 910 912 914 916 918 920 922 924 926 928 930 932 934 936 938 940 942 944 946 948 950 952 954 956 958 960 962 964 966 968 970 972 974 976 978 980 982 984 986 988 990 992 994 996 998 1000 1002 1004 1006 1008 1010 1012 1014 1016 1018 1020 1022 1024 1026 1028 1030 1032 1034 1036 1038 1040 1042 1044 1046 1048 1050 1052 1054 1056 1058 1060 1062 1064 1066 1068 1070 1072 1074 1076 1078 1080 1082 1084 1086 1088 1090 1092 1094 1096 1098 1100 1102 1104 1106 1108 1110 1112 1114 1116 1118 1120 1122 1124 1126 1128 1130 1132 1134 1136 1138 1140 1142 1144 1146 1148 1150 1152 1154 1156 1158 1160 1162 1164 1166 1168 1170 1172 1174 1176 1178 1180 1182 1184 1186 1188 1190 1192 1194 1196 1198 1200 1202 1204 1206 1208 1210 1212 1214 1216 1218 1220 1222 1224 1226 1228 1230 1232 1234 1236 1238 1240 1242 1244 1246 1248 1250 1252 1254 1256 1258 1260 1262 1264 1266 1268 1270 1272 1274 1276 1278 1280 1282 1284 1286 1288 1290 1292 1294 1296 1298 1300 1302 1304 1306 1308 1310 1312 1314 1316 1318 1320 1322 1324 1326 1328 1330 1332 1334 1336 1338 1340 1342 1344 1346 1348 1350 1352 1354 1356 1358 1360 1362 1364 1366 1368 1370 1372 1374 1376 1378 1380 1382 1384 1386 1388 1390 1392 1394 1396 1398 1400 1402 1404 1406 1408 1410 1412 1414 1416 1418 1420 1422 1424 1426 1428 1430 1432 1434 1436 1438 1440 1442 1444 1446 1448 1450 1452 1454 1456 1458 1460 1462 1464 1466 1468 1470 1472 1474 1476 1478 1480 1482 1484 1486 1488 1490 1492 1494 1496 1498 1500 1502 1504 1506 1508 1510 1512 1514 1516 1518 1520 1522 1524 1526 1528 1530 1532 1534 1536 1538 1540 1542 1544 1546 1548 1550 1552 1554 1556 1558 1560 1562 1564 1566 1568 1570 1572 1574 1576 1578 1580 1582 1584 1586 1588 1590 1592 1594 1596 1598 1600 1602 1604 1606 1608 1610 1612 1614 1616 1618 1620 1622 1624 1626 1628 1630 1632 1634 1636 1638 1640 1642 1644 1646 1648 1650 1652 1654 1656 1658 1660 1662 1664 1666 1668 1670 1672 1674 1676 1678 1680 1682 1684 1686 1688 1690 1692 1694 1696 1698 1700 1702 1704 1706 1708 1710 1712 1714 1716 1718 1720 1722 1724 1726 1728 1730 1732 1734 1736 1738 1740 1742 1744 1746 1748 1750 1752 1754 1756 1758 1760 1762 1764 1766 1768 1770 1772 1774 1776 1778 1780 1782 1784 1786 1788 1790 1792 1794 1796 1798 1800 1802 1804 1806 1808 1810 1812 1814 1816 1818 1820 1822 1824 1826 1828 1830 1832 1834 1836 1838 1840 1842 1844 1846 1848 1850 1852 1854 1856 1858 1860 1862 1864 1866 1868 1870 1872 1874 1876 1878 1880 1882 1884 1886 1888 1890 1892 1894 1896 1898 1900 1902 1904 1906 1908 1910 1912 1914 1916 1918 1920 1922 1924 1926 1928 1930 1932 1934 1936 1938 1940 1942 1944 1946 1948 1950 1952 1954 1956 1958 1960 1962 1964 1966 1968 1970 1972 1974 1976 1978 1980 1982 1984 1986 1988 1990 1992 1994 1996 1998 2000 2002 2004 2006 2008 2010 2012 2014 2016 2018 2020 \n",
            "\n",
            "\n",
            "Odd numbers: 1 3 5 7 9 11 13 15 17 19 21 23 25 27 29 31 33 35 37 39 41 43 45 47 49 51 53 55 57 59 61 63 65 67 69 71 73 75 77 79 81 83 85 87 89 91 93 95 97 99 101 103 105 107 109 111 113 115 117 119 121 123 125 127 129 131 133 135 137 139 141 143 145 147 149 151 153 155 157 159 161 163 165 167 169 171 173 175 177 179 181 183 185 187 189 191 193 195 197 199 201 203 205 207 209 211 213 215 217 219 221 223 225 227 229 231 233 235 237 239 241 243 245 247 249 251 253 255 257 259 261 263 265 267 269 271 273 275 277 279 281 283 285 287 289 291 293 295 297 299 301 303 305 307 309 311 313 315 317 319 321 323 325 327 329 331 333 335 337 339 341 343 345 347 349 351 353 355 357 359 361 363 365 367 369 371 373 375 377 379 381 383 385 387 389 391 393 395 397 399 401 403 405 407 409 411 413 415 417 419 421 423 425 427 429 431 433 435 437 439 441 443 445 447 449 451 453 455 457 459 461 463 465 467 469 471 473 475 477 479 481 483 485 487 489 491 493 495 497 499 501 503 505 507 509 511 513 515 517 519 521 523 525 527 529 531 533 535 537 539 541 543 545 547 549 551 553 555 557 559 561 563 565 567 569 571 573 575 577 579 581 583 585 587 589 591 593 595 597 599 601 603 605 607 609 611 613 615 617 619 621 623 625 627 629 631 633 635 637 639 641 643 645 647 649 651 653 655 657 659 661 663 665 667 669 671 673 675 677 679 681 683 685 687 689 691 693 695 697 699 701 703 705 707 709 711 713 715 717 719 721 723 725 727 729 731 733 735 737 739 741 743 745 747 749 751 753 755 757 759 761 763 765 767 769 771 773 775 777 779 781 783 785 787 789 791 793 795 797 799 801 803 805 807 809 811 813 815 817 819 821 823 825 827 829 831 833 835 837 839 841 843 845 847 849 851 853 855 857 859 861 863 865 867 869 871 873 875 877 879 881 883 885 887 889 891 893 895 897 899 901 903 905 907 909 911 913 915 917 919 921 923 925 927 929 931 933 935 937 939 941 943 945 947 949 951 953 955 957 959 961 963 965 967 969 971 973 975 977 979 981 983 985 987 989 991 993 995 997 999 1001 1003 1005 1007 1009 1011 1013 1015 1017 1019 1021 1023 1025 1027 1029 1031 1033 1035 1037 1039 1041 1043 1045 1047 1049 1051 1053 1055 1057 1059 1061 1063 1065 1067 1069 1071 1073 1075 1077 1079 1081 1083 1085 1087 1089 1091 1093 1095 1097 1099 1101 1103 1105 1107 1109 1111 1113 1115 1117 1119 1121 1123 1125 1127 1129 1131 1133 1135 1137 1139 1141 1143 1145 1147 1149 1151 1153 1155 1157 1159 1161 1163 1165 1167 1169 1171 1173 1175 1177 1179 1181 1183 1185 1187 1189 1191 1193 1195 1197 1199 1201 1203 1205 1207 1209 1211 1213 1215 1217 1219 1221 1223 1225 1227 1229 1231 1233 1235 1237 1239 1241 1243 1245 1247 1249 1251 1253 1255 1257 1259 1261 1263 1265 1267 1269 1271 1273 1275 1277 1279 1281 1283 1285 1287 1289 1291 1293 1295 1297 1299 1301 1303 1305 1307 1309 1311 1313 1315 1317 1319 1321 1323 1325 1327 1329 1331 1333 1335 1337 1339 1341 1343 1345 1347 1349 1351 1353 1355 1357 1359 1361 1363 1365 1367 1369 1371 1373 1375 1377 1379 1381 1383 1385 1387 1389 1391 1393 1395 1397 1399 1401 1403 1405 1407 1409 1411 1413 1415 1417 1419 1421 1423 1425 1427 1429 1431 1433 1435 1437 1439 1441 1443 1445 1447 1449 1451 1453 1455 1457 1459 1461 1463 1465 1467 1469 1471 1473 1475 1477 1479 1481 1483 1485 1487 1489 1491 1493 1495 1497 1499 1501 1503 1505 1507 1509 1511 1513 1515 1517 1519 1521 1523 1525 1527 1529 1531 1533 1535 1537 1539 1541 1543 1545 1547 1549 1551 1553 1555 1557 1559 1561 1563 1565 1567 1569 1571 1573 1575 1577 1579 1581 1583 1585 1587 1589 1591 1593 1595 1597 1599 1601 1603 1605 1607 1609 1611 1613 1615 1617 1619 1621 1623 1625 1627 1629 1631 1633 1635 1637 1639 1641 1643 1645 1647 1649 1651 1653 1655 1657 1659 1661 1663 1665 1667 1669 1671 1673 1675 1677 1679 1681 1683 1685 1687 1689 1691 1693 1695 1697 1699 1701 1703 1705 1707 1709 1711 1713 1715 1717 1719 1721 1723 1725 1727 1729 1731 1733 1735 1737 1739 1741 1743 1745 1747 1749 1751 1753 1755 1757 1759 1761 1763 1765 1767 1769 1771 1773 1775 1777 1779 1781 1783 1785 1787 1789 1791 1793 1795 1797 1799 1801 1803 1805 1807 1809 1811 1813 1815 1817 1819 1821 1823 1825 1827 1829 1831 1833 1835 1837 1839 1841 1843 1845 1847 1849 1851 1853 1855 1857 1859 1861 1863 1865 1867 1869 1871 1873 1875 1877 1879 1881 1883 1885 1887 1889 1891 1893 1895 1897 1899 1901 1903 1905 1907 1909 1911 1913 1915 1917 1919 1921 1923 1925 1927 1929 1931 1933 1935 1937 1939 1941 1943 1945 1947 1949 1951 1953 1955 1957 1959 1961 1963 1965 1967 1969 1971 1973 1975 1977 1979 1981 1983 1985 1987 1989 1991 1993 1995 1997 1999 2001 2003 2005 2007 2009 2011 2013 2015 2017 2019 "
          ],
          "name": "stdout"
        }
      ]
    },
    {
      "cell_type": "markdown",
      "metadata": {
        "id": "Fq7JHDiv6YBT"
      },
      "source": [
        "# Problem Set 05: \n",
        "- A website requests an user to input his account password. \n",
        "- Write a program to examize the validity of the password. \n",
        "- The valid password must consists of:\n",
        "    - At least 1 letter in [a-z]\n",
        "    - At least 1 number in [0-9]\n",
        "    - At least a letter in [A-Z] (capital)\n",
        "    - At least one special letter in [$#@]\n",
        "    - At least 6 letters in total\n",
        "    - At most 12 letters in total\n",
        "- The program can accept a list of passwords that are split by commas.\n",
        "- Print all valid passwords in a line and split by commas\n",
        "- Examples:\n",
        "    - Input: ABd1234@1,a F1#,2w3E*,2We3345\n",
        "    - Output: ABd1234@1"
      ]
    },
    {
      "cell_type": "code",
      "metadata": {
        "id": "bwJ9o6kA6OjR",
        "outputId": "7758622a-10d6-4bb7-be9b-e83052c0d4d9",
        "colab": {
          "base_uri": "https://localhost:8080/",
          "height": 52
        }
      },
      "source": [
        "import re\n",
        "\n",
        "input_password = str(input(\"Enter passwords : \"))\n",
        "password_list = input_password.split(\",\")\n",
        "password_valid=[]\n",
        "\n",
        "for password in password_list:\n",
        "    if(len(password)>6 and len(password)<12):\n",
        "        if(re.search(\"[a-z]\",password)):\n",
        "            if(re.search(\"[A-Z]\",password)):\n",
        "                if(re.search(\"[0-9]\",password)):\n",
        "                    if(re.search(\"[$#@]\",password)):\n",
        "                        password_valid.append(password)\n",
        "print(','.join(map(str,password_valid)))                        "
      ],
      "execution_count": 9,
      "outputs": [
        {
          "output_type": "stream",
          "text": [
            "Enter passwords : ABd1234@1,a F1#,2w3E*,2We3345\n",
            "ABd1234@1\n"
          ],
          "name": "stdout"
        }
      ]
    },
    {
      "cell_type": "markdown",
      "metadata": {
        "id": "mwwthWA26YBU"
      },
      "source": [
        "# Problem Set 06: \n",
        "A robot can move on the ground from an original location *(0,0)*. The robot can move in four directions: *UP*, *DOWN*, *LEFT*, and *RIGHT* with different steps. Supposed that, a user can control the robot using a command format as follows: \n",
        "~~~\n",
        "UP,5,DOWN,3,LEFT,2,RIGHT,4\n",
        "~~~\n",
        "Where, the numbers indicate the steps that robot has to move in the corresponding direction. Robot can move 1 meter in each step.\n",
        "\n",
        "- Write a program to calculate the distance (in meter unit) between the current location of the robot and its original (0,0) location after a user inputs a command to control the robot.\n",
        "- Example: \n",
        "    - Input command: \n",
        "    ~~~\n",
        "    UP,2,DOWN,3,UP,5,RIGHT,2,DOWN,1,LEFT,5\n",
        "    ~~~\n",
        "    - Output: $ D = \\sqrt{pos(0,0)^{2}+pos(X,Y)^{2}} $"
      ]
    },
    {
      "cell_type": "code",
      "metadata": {
        "id": "pQGFr1cn63gL",
        "outputId": "84253850-77c2-4325-ff1c-667bb86e6e5f",
        "colab": {
          "base_uri": "https://localhost:8080/",
          "height": 123
        }
      },
      "source": [
        "import math\n",
        "import re\n",
        "\n",
        "def getMovesList(comma_seperated_string):\n",
        "        K = 2\n",
        "        res = re.findall(\"[^,]+\\,[^,]+\", comma_seperated_string)\n",
        "        return res\n",
        "\n",
        "inp = input('Enter the Robots Moves in comma seperated string: \\n') \n",
        "movesList = getMovesList(inp)\n",
        "start = [0, 0]\n",
        "dest = [0, 0]\n",
        "\n",
        "for move in movesList:\n",
        "        move_name = move.split(\",\")[0]\n",
        "        move_count = move.split(\",\")[1]\n",
        "  \n",
        "        if move_name == 'UP':\n",
        "                dest[0] +=  int(move_count)\n",
        "        elif move_name == 'RIGHT':\n",
        "                dest[1] +=  int(move_count)\n",
        "        elif move_name == 'DOWN':\n",
        "                dest[0] -=  int(move_count)\n",
        "        elif move_name == 'LEFT':\n",
        "                dest[1] -=  int(move_count)\n",
        "\n",
        "print('final destination')\n",
        "print(dest)\n",
        "\n",
        "\n",
        "distance = math.sqrt( ((start[0]-dest[0])**2)+((start[1]-dest[1])**2) )\n",
        "\n",
        "print('distance from Initial point is: ')\n",
        "print(str(round(distance,3)) + ' meters')"
      ],
      "execution_count": 10,
      "outputs": [
        {
          "output_type": "stream",
          "text": [
            "Enter the Robots Moves in comma seperated string: \n",
            "UP,2,DOWN,3,UP,5,RIGHT,2,DOWN,1,LEFT,5\n",
            "final destination\n",
            "[3, -3]\n",
            "distance from Initial point is: \n",
            "4.243 meters\n"
          ],
          "name": "stdout"
        }
      ]
    }
  ]
}