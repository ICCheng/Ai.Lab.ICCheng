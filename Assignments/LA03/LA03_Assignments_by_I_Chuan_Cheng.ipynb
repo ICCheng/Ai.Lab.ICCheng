{
  "nbformat": 4,
  "nbformat_minor": 0,
  "metadata": {
    "colab": {
      "name": "Untitled2.ipynb",
      "provenance": []
    },
    "kernelspec": {
      "name": "python3",
      "display_name": "Python 3"
    }
  },
  "cells": [
    {
      "cell_type": "markdown",
      "metadata": {
        "id": "YHPmseTM4SFu"
      },
      "source": [
        "**Problem set 1**"
      ]
    },
    {
      "cell_type": "code",
      "metadata": {
        "id": "g1Abvz644XW_",
        "outputId": "245e5764-b8e0-4294-e8a5-a3a7c8711aee",
        "colab": {
          "base_uri": "https://localhost:8080/"
        }
      },
      "source": [
        "import numpy as np\n",
        "\n",
        "def ReLU(layer):\n",
        "  layer[layer<0]=0\n",
        "  return layer\n",
        "\n",
        "def model_output(inputlayer):\n",
        "\n",
        "  hiddenlayer=np.array([[2.3,-0.64,2],[-3,-2,-1]])\n",
        "  outputlayer=np.array([[5,3,-34]])\n",
        "  x1=np.dot(inputlayer,np.transpose(hiddenlayer))\n",
        "  y1=ReLU(x1)\n",
        "  bias=np.ones(y1.shape[0]).reshape(y1.shape[0],1)\n",
        "  y1=np.append(y1,bias,axis=1)\n",
        "  x2=np.dot(y1,np.transpose(outputlayer))\n",
        "  y2=ReLU(x2)\n",
        "\n",
        "  return y2\n",
        "\n",
        "inputlayer=np.array([[-4,-2,1],[0,-2,1],[4,-2,1],[0,-3,1]])\n",
        "print(model_output(inputlayer))"
      ],
      "execution_count": 5,
      "outputs": [
        {
          "output_type": "stream",
          "text": [
            "[[11. ]\n",
            " [ 0. ]\n",
            " [28.4]\n",
            " [ 0.6]]\n"
          ],
          "name": "stdout"
        }
      ]
    },
    {
      "cell_type": "markdown",
      "metadata": {
        "id": "L3R7fBIW4B0I"
      },
      "source": [
        "**Problem set 2**\n"
      ]
    },
    {
      "cell_type": "code",
      "metadata": {
        "id": "FuAisWaO3iPv",
        "outputId": "59aefcd7-9e8e-44c4-b86d-e40f7f7f5073",
        "colab": {
          "base_uri": "https://localhost:8080/"
        }
      },
      "source": [
        "from math import exp\n",
        "\n",
        "def sigmoid(v):\n",
        "    return 1/(1+exp(-v))\n",
        "\n",
        "\n",
        "x1 = 0\n",
        "x2 = 1\n",
        "wh1x1 = 2.5\n",
        "wh1x2 = 1\n",
        "wh2x1 = -1.5\n",
        "wh2x2 = -3\n",
        "wh1b = 1.5\n",
        "wh2b = 2\n",
        "wyh1 = 1\n",
        "wyh2 = 0.5\n",
        "wyb = -1\n",
        "\n",
        "h1in = x1*wh1x1+x2*wh1x2+wh1b\n",
        "h2in = x1*wh2x1+x2*wh2x2+wh2b\n",
        "h1out = sigmoid(h1in)\n",
        "h2out = sigmoid(h2in)\n",
        "\n",
        "print('Net Input to h1 = %.3f, output at h1 = %.4f' % (h1in, h1out))\n",
        "print('Net Input to h2 = %.3f, output at h2 = %.4f' % (h2in, h2out))\n",
        "\n",
        "yin = wyh1*h1out + wyh2*h2out + wyb\n",
        "yout = sigmoid(yin)\n",
        "\n",
        "print('Net Input to y = %.3f, output at y = %.4f' % (yin, yout))"
      ],
      "execution_count": null,
      "outputs": [
        {
          "output_type": "stream",
          "text": [
            "Net Input to h1 = 2.500, output at h1 = 0.9241\n",
            "Net Input to h2 = -1.000, output at h2 = 0.2689\n",
            "Net Input to y = 0.059, output at y = 0.5146\n"
          ],
          "name": "stdout"
        }
      ]
    },
    {
      "cell_type": "markdown",
      "metadata": {
        "id": "ehRViS8a5ALl"
      },
      "source": [
        "**Problem set 3**"
      ]
    },
    {
      "cell_type": "code",
      "metadata": {
        "id": "cimJTc545QeB",
        "outputId": "6de93631-9f56-4f57-b866-22e4c09164df",
        "colab": {
          "base_uri": "https://localhost:8080/"
        }
      },
      "source": [
        "import numpy as np\n",
        "\n",
        "def sgn(s):\n",
        "    a = 1/(1+np.exp(-s))\n",
        "    return a>0.5\n",
        "\n",
        "not_fnn = lambda x: sgn(-2*x+1)\n",
        "print(\"Not on 1:\",int(not_fnn(1)))\n",
        "print(\"Not on 0:\",int(not_fnn(0)))\n",
        "print()\n",
        "\n",
        "and_fnn = lambda x1,x2: sgn(2*x1+2*x2-3)\n",
        "for x1 in range(2):\n",
        "    for x2 in range(2):\n",
        "        print(\"And on {} {} => {}\".format(x1,x2,int(and_fnn(x1,x2))))\n",
        "        \n",
        "print()\n",
        "\n",
        "or_fnn = lambda x1,x2: sgn(2*x1+2*x2-1)\n",
        "for x1 in range(2):\n",
        "    for x2 in range(2):\n",
        "        print(\"Or on {} {} => {}\".format(x1,x2,int(or_fnn(x1,x2))))\n",
        "        \n",
        "print()\n",
        "\n",
        "def XOR_fnn(x1,x2):\n",
        "    h1 = np.array([[-2,2],[-2,2]])\n",
        "    b1 = np.array([3,-1])\n",
        "    h2 = np.array([1,1])\n",
        "    b2 = np.array([-1])\n",
        "    f = np.array([x1,x2])\n",
        "    a1 = sgn(h1.T.dot(f) + b1)\n",
        "    a2 = sgn(h2.T.dot(a1) + b2)\n",
        "    return a2.astype(int)\n",
        "    \n",
        "for x1 in range(2):\n",
        "    for x2 in range(2):\n",
        "        print(\"XOR on {} {} => {}\".format(x1,x2,XOR_fnn(x1,x2)))\n",
        "        \n",
        "print() "
      ],
      "execution_count": 8,
      "outputs": [
        {
          "output_type": "stream",
          "text": [
            "Not on 1: 0\n",
            "Not on 0: 1\n",
            "\n",
            "And on 0 0 => 0\n",
            "And on 0 1 => 0\n",
            "And on 1 0 => 0\n",
            "And on 1 1 => 1\n",
            "\n",
            "Or on 0 0 => 0\n",
            "Or on 0 1 => 1\n",
            "Or on 1 0 => 1\n",
            "Or on 1 1 => 1\n",
            "\n",
            "XOR on 0 0 => [0]\n",
            "XOR on 0 1 => [1]\n",
            "XOR on 1 0 => [1]\n",
            "XOR on 1 1 => [0]\n",
            "\n"
          ],
          "name": "stdout"
        }
      ]
    },
    {
      "cell_type": "markdown",
      "metadata": {
        "id": "sUwc0lmd5LVS"
      },
      "source": [
        "**Problem set 4**"
      ]
    },
    {
      "cell_type": "code",
      "metadata": {
        "id": "qVS2FJ2x5RFJ"
      },
      "source": [
        ""
      ],
      "execution_count": null,
      "outputs": []
    }
  ]
}