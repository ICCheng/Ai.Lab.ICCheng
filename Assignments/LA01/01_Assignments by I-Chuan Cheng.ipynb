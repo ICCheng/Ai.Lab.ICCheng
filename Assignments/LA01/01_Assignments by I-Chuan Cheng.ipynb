{
  "nbformat": 4,
  "nbformat_minor": 0,
  "metadata": {
    "celltoolbar": "Slideshow",
    "colab": {
      "name": "01-Assignments.ipynb",
      "provenance": [],
      "collapsed_sections": []
    },
    "kernelspec": {
      "display_name": "Python 3",
      "language": "python",
      "name": "python3"
    },
    "language_info": {
      "codemirror_mode": {
        "name": "ipython",
        "version": 3
      },
      "file_extension": ".py",
      "mimetype": "text/x-python",
      "name": "python",
      "nbconvert_exporter": "python",
      "pygments_lexer": "ipython3",
      "version": "3.8.3-final"
    }
  },
  "cells": [
    {
      "cell_type": "markdown",
      "metadata": {
        "id": "zESqs92cxul8"
      },
      "source": [
        "# Submission Template\n",
        "- Student name: I-Chuan Cheng\n",
        "- Student ID: p25100\n",
        "- Student email: p25100@psuca.edu"
      ]
    },
    {
      "cell_type": "markdown",
      "metadata": {
        "id": "uGm_UMhrxul9"
      },
      "source": [
        "# Assignments\n",
        "- __Due date: 12:00AM October 14, 2020 (UTC-7)__"
      ]
    },
    {
      "cell_type": "markdown",
      "metadata": {
        "id": "GX4Z47Ayxul-"
      },
      "source": [
        "## Problem Set 1\n",
        "\n",
        "1. Calculate $ x = 2019+2020*2021 $\n",
        "\n",
        "2. Calculate $ y = (2019+2020)*2021 $\n",
        "\n",
        "_(See the difference with #1? Becareful with parentheses next time!)_\n",
        "\n",
        "3. 2020.2021 to the 19th power\n",
        "\n",
        "4. Positive root of the following equation: **$2020 \\times x^2 - 2021 \\times x - 2019 = 0$**\n",
        "\n",
        "Tips:\n",
        "$a \\times x^2 + b \\times x + c$\n",
        "\n",
        "$x_{1} = \\frac{-b + \\sqrt{ b^2 - 4 \\times a \\times c }}{2 \\times a} $\n",
        "$x_{2} = \\frac{-b - \\sqrt{ b^2 - 4 \\times a \\times c }}{2 \\times a} $"
      ]
    },
    {
      "cell_type": "code",
      "metadata": {
        "id": "r1fdjhQk0iKL",
        "outputId": "98a3c5c3-36cd-4866-c170-9521f24cd76f",
        "colab": {
          "base_uri": "https://localhost:8080/",
          "height": 35
        }
      },
      "source": [
        "2019+2020*2021"
      ],
      "execution_count": 5,
      "outputs": [
        {
          "output_type": "execute_result",
          "data": {
            "text/plain": [
              "4084439"
            ]
          },
          "metadata": {
            "tags": []
          },
          "execution_count": 5
        }
      ]
    },
    {
      "cell_type": "code",
      "metadata": {
        "id": "D8pdsnSW0pd-",
        "outputId": "e6113a62-f639-4668-9810-1305705c72cf",
        "colab": {
          "base_uri": "https://localhost:8080/",
          "height": 35
        }
      },
      "source": [
        "(2019+2020)*2021"
      ],
      "execution_count": 6,
      "outputs": [
        {
          "output_type": "execute_result",
          "data": {
            "text/plain": [
              "8162819"
            ]
          },
          "metadata": {
            "tags": []
          },
          "execution_count": 6
        }
      ]
    },
    {
      "cell_type": "code",
      "metadata": {
        "id": "4TaVKQoM0znI",
        "outputId": "e749dad0-53b9-4ceb-9fa1-437e1c64ebaa",
        "colab": {
          "base_uri": "https://localhost:8080/",
          "height": 35
        }
      },
      "source": [
        "2020.2021**19"
      ],
      "execution_count": 7,
      "outputs": [
        {
          "output_type": "execute_result",
          "data": {
            "text/plain": [
              "6.346021603243804e+62"
            ]
          },
          "metadata": {
            "tags": []
          },
          "execution_count": 7
        }
      ]
    },
    {
      "cell_type": "code",
      "metadata": {
        "id": "nCjXur-B2hVN",
        "outputId": "c57fc7dd-a583-4cc1-d624-44acc44a8e5d",
        "colab": {
          "base_uri": "https://localhost:8080/",
          "height": 52
        }
      },
      "source": [
        "import math\n",
        "\n",
        "a=2020\n",
        "b=-2021\n",
        "c=-2019\n",
        "d=(b**2)-(4*a*c)\n",
        "Root1=(-b-math.sqrt(d))/(2*a)\n",
        "Root2=(-b+math.sqrt(d))/(2*a)\n",
        "\n",
        "print('The X1:',Root1)\n",
        "print('The X2:',Root2)"
      ],
      "execution_count": 28,
      "outputs": [
        {
          "output_type": "stream",
          "text": [
            "The X1: -0.6176757894851463\n",
            "The X2: 1.6181708389900968\n"
          ],
          "name": "stdout"
        }
      ]
    },
    {
      "cell_type": "markdown",
      "metadata": {
        "id": "KFOIYerCxul-"
      },
      "source": [
        "## Problem Set 2\n",
        "\n",
        "Input your height and generate an output string based on the following statements:\n",
        "\n",
        "Problem Statement:\n",
        "- If you're taller than 56\", you can ride Space Mountain at Disneyland.\n",
        "- If you're shorter, you cannot.\n",
        "- Additionally if you are greater than 150 inches, you are super tall and deserve a witty message."
      ]
    },
    {
      "cell_type": "code",
      "metadata": {
        "id": "9Ig_Caer4NAt",
        "outputId": "68b0f747-e712-4dc9-8267-a7e04f30ba4d",
        "colab": {
          "base_uri": "https://localhost:8080/",
          "height": 52
        }
      },
      "source": [
        "Height = int(input(\"Enter your Height(inches):\"))\n",
        "\n",
        "if Height > 56:\n",
        "  print(\"You can ride Space Mountain at Disneyland\")\n",
        "  if Height > 150:\n",
        "    print(\"You are super tall and deserve a witty message\")\n",
        "else:\n",
        "  print(\"Sorry, you are too short to ride it, eat more and come back next year.\")"
      ],
      "execution_count": 27,
      "outputs": [
        {
          "output_type": "stream",
          "text": [
            "Enter your Height(inches):55\n",
            "Sorry, you are too short to ride it, eat more and come back next year.\n"
          ],
          "name": "stdout"
        }
      ]
    },
    {
      "cell_type": "markdown",
      "metadata": {
        "id": "IbpEjezxxul_"
      },
      "source": [
        "## Problem Set 3\n",
        "\n",
        "- James is looking for his dream job, but has some restrictions. He loves California and would take a job there if it paid over 40,000 a year. He hates Massachusetts and demands at least 100,000 to work there. Any other place he’s content to work for 60,000 a year, unless he can work in space in which case he would work for free. \n",
        "- Write a program to capture the above statement\n",
        "- For each of the following job offers, write down the output that would be generated.\n",
        "    - location = \"Massachusetts\"   pay = 50000\n",
        "    - location = \"Iowa\"   pay = 50000\n",
        "    - location = \"California\"   pay = 50000\n",
        "    - location = \"U.S.S. Enterprise\"   pay = 1\n",
        "    - location = \"California\"   pay = 25000\n",
        "\n",
        "    "
      ]
    },
    {
      "cell_type": "code",
      "metadata": {
        "id": "t3O5h4Ps_Coi",
        "outputId": "7223a3e9-82df-4d38-e0e3-868fe4c7d087",
        "colab": {
          "base_uri": "https://localhost:8080/",
          "height": 105
        }
      },
      "source": [
        "Loc = [\"Massachusetts\", \"Lowa\", \"California\", \"U.S.S.\", \"California\"]\n",
        "AnnualSalary = [50000, 50000, 50000, 1, 25000]\n",
        "\n",
        "for (x,y) in zip(Loc, AnnualSalary):\n",
        "  if (x == \"California\" and y >= 40000):\n",
        "    print (\"James will take a job at\",x,\"for\",y,\"$ a year\")\n",
        "\n",
        "    if (x == \"Massachusetts\" and y >= 100000):\n",
        "      print (\"James will take a job at\",x,\"for\",y,\"$ a year\")\n",
        "\n",
        "    if(x != \"California\" and x != \"Massachussets\" and y >= 60000):\n",
        "      print (\"James will take a job at\",x,\"for\",y,\"$ a year\")\n",
        "  \n",
        "  else:\n",
        "    print (\"James will not take the job at\",x,\"for\",y,\"$ a year\")"
      ],
      "execution_count": 38,
      "outputs": [
        {
          "output_type": "stream",
          "text": [
            "James will not take the job at Massachusetts for 50000 $ a year\n",
            "James will not take the job at Lowa for 50000 $ a year\n",
            "James will take a job at California for 50000 $ a year\n",
            "James will not take the job at U.S.S. for 1 $ a year\n",
            "James will not take the job at California for 25000 $ a year\n"
          ],
          "name": "stdout"
        }
      ]
    },
    {
      "cell_type": "markdown",
      "metadata": {
        "id": "j0tNvBBIxumA"
      },
      "source": [
        "## Problem Set 4\n",
        "- Write a program to print a Fibanacci sequence using loops as described belows:\n",
        "\n",
        "The Fibonacci numbers are the sequence of numbers\n",
        "$\\{F_n\\}_{n=1}^\\infty$\n",
        "defined by the linear recurrence equation\n",
        "$$F_n = F_{n-1} + F_{n-2}$$\n",
        "with $F_1 = F_2 = 1$, and conventionally defining $F_0 = 0$.\n",
        "\n",
        "Given n = 2020\n"
      ]
    },
    {
      "cell_type": "markdown",
      "metadata": {
        "id": "cOSkP1G-xumA"
      },
      "source": [
        "## Problemt Set 5 \n",
        "- Propose a problem in finance/business that you can use conditionals and loops statements to capture the details\n",
        "- Solve it by coding a program\n",
        "- Generate several outputs"
      ]
    },
    {
      "cell_type": "markdown",
      "metadata": {
        "id": "H9hRBPg1xumB"
      },
      "source": [
        "## Problem Set 5\n",
        "1. Try to setup coding environment to run on your own local machine (instead of Google Colab)\n",
        "    - Python package version 3.8\n",
        "    - Jupyter Notebooks\n",
        "2. Write a report in Jupyter Notebooks about how you performed the installation (with pictures) on your Mac or Windows PC."
      ]
    }
  ]
}